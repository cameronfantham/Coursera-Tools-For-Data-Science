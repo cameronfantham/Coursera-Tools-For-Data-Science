{
  "nbformat": 4,
  "nbformat_minor": 0,
  "metadata": {
    "colab": {
      "provenance": []
    },
    "kernelspec": {
      "name": "python3",
      "display_name": "Python 3"
    },
    "language_info": {
      "name": "python"
    }
  },
  "cells": [
    {
      "cell_type": "code",
      "execution_count": 1,
      "metadata": {
        "colab": {
          "base_uri": "https://localhost:8080/",
          "height": 130
        },
        "id": "bXtRAWLpTFSk",
        "outputId": "d703d2ce-668d-41ee-b2cd-df10dbe36387"
      },
      "outputs": [
        {
          "output_type": "error",
          "ename": "SyntaxError",
          "evalue": "ignored",
          "traceback": [
            "\u001b[0;36m  File \u001b[0;32m\"<ipython-input-1-00fcc74b2bec>\"\u001b[0;36m, line \u001b[0;32m1\u001b[0m\n\u001b[0;31m    My Jupyter Notebook on IBM Watson Studio\u001b[0m\n\u001b[0m             ^\u001b[0m\n\u001b[0;31mSyntaxError\u001b[0m\u001b[0;31m:\u001b[0m invalid syntax\n"
          ]
        }
      ],
      "source": []
    },
    {
      "cell_type": "markdown",
      "source": [
        "# My Jupyter Notebook on IBM Watson Studio"
      ],
      "metadata": {
        "id": "-dHuD4MoTRc-"
      }
    },
    {
      "cell_type": "markdown",
      "source": [
        "**Cameron Fantham**\n",
        "\n",
        "Data Scientist"
      ],
      "metadata": {
        "id": "wOreaIOrTdgQ"
      }
    },
    {
      "cell_type": "markdown",
      "source": [
        "I am interested in data science because I would like to become a data scientist in the future."
      ],
      "metadata": {
        "id": "FGBUVocWTyrR"
      }
    },
    {
      "cell_type": "markdown",
      "source": [
        "###The code in the following cell will print the result of 1 + 1."
      ],
      "metadata": {
        "id": "pBrJPwQAT78X"
      }
    },
    {
      "cell_type": "code",
      "source": [
        "print(1 + 1)"
      ],
      "metadata": {
        "colab": {
          "base_uri": "https://localhost:8080/"
        },
        "id": "GK_uF8irUDyG",
        "outputId": "2ed7d462-d571-4a0d-cfec-d2fbbcfc61f9"
      },
      "execution_count": 2,
      "outputs": [
        {
          "output_type": "stream",
          "name": "stdout",
          "text": [
            "2\n"
          ]
        }
      ]
    },
    {
      "cell_type": "markdown",
      "source": [
        "##Fruits\n",
        "1.   Apple\n",
        "2.   Orange\n",
        "\n",
        "##Animals\n",
        "*   Dog\n",
        "*   Cat\n",
        "\n",
        "##~~Countries~~\n",
        "\n"
      ],
      "metadata": {
        "id": "IrF9eEWbUM0m"
      }
    }
  ]
}